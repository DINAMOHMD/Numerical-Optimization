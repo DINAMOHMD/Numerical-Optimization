{
 "cells": [
  {
   "cell_type": "code",
   "execution_count": 7,
   "metadata": {},
   "outputs": [],
   "source": [
    "import numpy as np\n",
    "import matplotlib.pyplot as plt \n",
    "from numpy.linalg import norm\n",
    "from sklearn.metrics import r2_score\n",
    "%matplotlib inline"
   ]
  },
  {
   "cell_type": "code",
   "execution_count": 8,
   "metadata": {},
   "outputs": [],
   "source": [
    "f1=lambda x,y: np.array([x**2+y**2])\n",
    "f1_grad=lambda x,y:np.array([[2*x],[2*y]])"
   ]
  },
  {
   "cell_type": "code",
   "execution_count": 43,
   "metadata": {},
   "outputs": [],
   "source": [
    "def BFGS(f_grad, xk=np.array([[10], [10]]), x0=np.array([[9], [9]]), learning_rate=0.1, epsilon=0.001):\n",
    "    max_iteration = 1000\n",
    "    B_inv = np.eye(len(x0))\n",
    "    xn_1 = np.array(xk)\n",
    "    xn = np.array(x0)\n",
    "\n",
    "    for i in range(max_iteration):\n",
    "        print(\"Iteration:\", i)\n",
    "        xn_1 = np.concatenate(xn_1.reshape(1, -1))\n",
    "        xn = np.concatenate(xn.reshape(1, -1))\n",
    "        Dfxn_1 = f_grad(*xn_1)\n",
    "        Dfxn = f_grad(*xn)\n",
    "        xn_1 = xn_1.reshape(-1, 1)\n",
    "        xn = xn.reshape(-1, 1)\n",
    "        print(\"xn_1:\\n\", xn_1)\n",
    "        print(\"xn:\\n\", xn)\n",
    "        print(\"Dfxn_1\\n\", Dfxn_1)\n",
    "        print(\"Dfxn\\n\", Dfxn)\n",
    "\n",
    "        gradient_norm = norm(Dfxn)\n",
    "        print(\"Gradient Norm:\", gradient_norm)\n",
    "        print(\"*****\")\n",
    "\n",
    "        if gradient_norm < epsilon:\n",
    "            break\n",
    "\n",
    "        delta_x = xn - xn_1\n",
    "        delta_g = Dfxn - Dfxn_1\n",
    "        Denominator = 1 / np.dot(delta_g.T, delta_x)\n",
    "\n",
    "        term_1 = np.eye(len(x0)) - Denominator * np.outer(delta_x, delta_g)\n",
    "        term_2 = np.eye(len(x0)) - Denominator * np.outer(delta_g, delta_x)\n",
    "\n",
    "        B_inv = np.dot(term_1, np.dot(B_inv, term_2)) + Denominator * np.outer(delta_x, delta_x)\n",
    "        print(\"B_inv\\n\", B_inv)\n",
    "        print(\"****************\")\n",
    "\n",
    "        xn_1 = xn\n",
    "        xn = xn - learning_rate * np.dot(B_inv, Dfxn)\n",
    "        Dfxn_1 = Dfxn\n",
    "\n",
    "    return xn, Dfxn, i"
   ]
  },
  {
   "cell_type": "code",
   "execution_count": 44,
   "metadata": {},
   "outputs": [
    {
     "name": "stdout",
     "output_type": "stream",
     "text": [
      "Iteration: 0\n",
      "xn_1:\n",
      " [[10]\n",
      " [10]]\n",
      "xn:\n",
      " [[9]\n",
      " [9]]\n",
      "Dfxn_1\n",
      " [[20]\n",
      " [20]]\n",
      "Dfxn\n",
      " [[18]\n",
      " [18]]\n",
      "Gradient Norm: 25.45584412271571\n",
      "*****\n",
      "B_inv\n",
      " [[ 0.75 -0.25]\n",
      " [-0.25  0.75]]\n",
      "****************\n",
      "Iteration: 1\n",
      "xn_1:\n",
      " [[9]\n",
      " [9]]\n",
      "xn:\n",
      " [[0.]\n",
      " [0.]]\n",
      "Dfxn_1\n",
      " [[18]\n",
      " [18]]\n",
      "Dfxn\n",
      " [[0.]\n",
      " [0.]]\n",
      "Gradient Norm: 0.0\n",
      "*****\n",
      "Found solution after 2 iterations.\n",
      "xy_min =\n",
      " [[0.]\n",
      " [0.]]\n",
      "Gradient =\n",
      " [[0.]\n",
      " [0.]]\n"
     ]
    }
   ],
   "source": [
    "xn, Dfxn, i=BFGS(f1_grad, xk=[10,10], x0=[9,9], learning_rate=1, epsilon=0.001)\n",
    "print(f\"Found solution after {i+1} iterations.\")\n",
    "print(\"xy_min =\\n\",xn)\n",
    "print(\"Gradient =\\n\",Dfxn)"
   ]
  },
  {
   "cell_type": "code",
   "execution_count": 49,
   "metadata": {},
   "outputs": [],
   "source": [
    "f2 = lambda x, y: x**2 + x*y + y**2\n",
    "f2_grad = lambda x, y: np.array([[2*x + y], [x + 2*y]])\n"
   ]
  },
  {
   "cell_type": "code",
   "execution_count": 50,
   "metadata": {},
   "outputs": [
    {
     "name": "stdout",
     "output_type": "stream",
     "text": [
      "Iteration: 0\n",
      "xn_1:\n",
      " [[10]\n",
      " [10]]\n",
      "xn:\n",
      " [[9]\n",
      " [9]]\n",
      "Dfxn_1\n",
      " [[30]\n",
      " [30]]\n",
      "Dfxn\n",
      " [[27]\n",
      " [27]]\n",
      "Gradient Norm: 38.18376618407357\n",
      "*****\n",
      "B_inv\n",
      " [[ 0.66666667 -0.33333333]\n",
      " [-0.33333333  0.66666667]]\n",
      "****************\n",
      "Iteration: 1\n",
      "xn_1:\n",
      " [[9]\n",
      " [9]]\n",
      "xn:\n",
      " [[0.9]\n",
      " [0.9]]\n",
      "Dfxn_1\n",
      " [[27]\n",
      " [27]]\n",
      "Dfxn\n",
      " [[2.7]\n",
      " [2.7]]\n",
      "Gradient Norm: 3.8183766184073655\n",
      "*****\n",
      "B_inv\n",
      " [[ 0.66666667 -0.33333333]\n",
      " [-0.33333333  0.66666667]]\n",
      "****************\n",
      "Iteration: 2\n",
      "xn_1:\n",
      " [[0.9]\n",
      " [0.9]]\n",
      "xn:\n",
      " [[0.09]\n",
      " [0.09]]\n",
      "Dfxn_1\n",
      " [[2.7]\n",
      " [2.7]]\n",
      "Dfxn\n",
      " [[0.27]\n",
      " [0.27]]\n",
      "Gradient Norm: 0.38183766184073553\n",
      "*****\n",
      "B_inv\n",
      " [[ 0.66666667 -0.33333333]\n",
      " [-0.33333333  0.66666667]]\n",
      "****************\n",
      "Iteration: 3\n",
      "xn_1:\n",
      " [[0.09]\n",
      " [0.09]]\n",
      "xn:\n",
      " [[0.009]\n",
      " [0.009]]\n",
      "Dfxn_1\n",
      " [[0.27]\n",
      " [0.27]]\n",
      "Dfxn\n",
      " [[0.027]\n",
      " [0.027]]\n",
      "Gradient Norm: 0.038183766184073605\n",
      "*****\n",
      "B_inv\n",
      " [[ 0.66666667 -0.33333333]\n",
      " [-0.33333333  0.66666667]]\n",
      "****************\n",
      "Iteration: 4\n",
      "xn_1:\n",
      " [[0.009]\n",
      " [0.009]]\n",
      "xn:\n",
      " [[0.0009]\n",
      " [0.0009]]\n",
      "Dfxn_1\n",
      " [[0.027]\n",
      " [0.027]]\n",
      "Dfxn\n",
      " [[0.0027]\n",
      " [0.0027]]\n",
      "Gradient Norm: 0.0038183766184073484\n",
      "*****\n",
      "B_inv\n",
      " [[ 0.66666667 -0.33333333]\n",
      " [-0.33333333  0.66666667]]\n",
      "****************\n",
      "Iteration: 5\n",
      "xn_1:\n",
      " [[0.0009]\n",
      " [0.0009]]\n",
      "xn:\n",
      " [[9.e-05]\n",
      " [9.e-05]]\n",
      "Dfxn_1\n",
      " [[0.0027]\n",
      " [0.0027]]\n",
      "Dfxn\n",
      " [[0.00027]\n",
      " [0.00027]]\n",
      "Gradient Norm: 0.00038183766184073526\n",
      "*****\n",
      "Found solution after 6 iterations.\n",
      "xy_min =\n",
      " [[9.e-05]\n",
      " [9.e-05]]\n",
      "Gradient =\n",
      " [[0.00027]\n",
      " [0.00027]]\n"
     ]
    }
   ],
   "source": [
    "xn, Dfxn, i=BFGS(f2_grad, xk=[10,10], x0=[9,9], learning_rate=0.9, epsilon=0.001)\n",
    "print(f\"Found solution after {i+1} iterations.\")\n",
    "print(\"xy_min =\\n\",xn)\n",
    "print(\"Gradient =\\n\",Dfxn)"
   ]
  },
  {
   "cell_type": "code",
   "execution_count": 51,
   "metadata": {},
   "outputs": [],
   "source": [
    "f3 = lambda x, y: x**2 * y\n",
    "f3_grad = lambda x, y: np.array([[2 * x * y],[x**2]])"
   ]
  },
  {
   "cell_type": "code",
   "execution_count": 53,
   "metadata": {},
   "outputs": [
    {
     "name": "stdout",
     "output_type": "stream",
     "text": [
      "Iteration: 0\n",
      "xn_1:\n",
      " [[10]\n",
      " [10]]\n",
      "xn:\n",
      " [[9]\n",
      " [9]]\n",
      "Dfxn_1\n",
      " [[200]\n",
      " [100]]\n",
      "Dfxn\n",
      " [[162]\n",
      " [ 81]]\n",
      "Gradient Norm: 181.12150617748296\n",
      "*****\n",
      "B_inv\n",
      " [[ 0.23976608 -0.42690058]\n",
      " [-0.42690058  0.90643275]]\n",
      "****************\n",
      "Iteration: 1\n",
      "xn_1:\n",
      " [[9]\n",
      " [9]]\n",
      "xn:\n",
      " [[4.73684211]\n",
      " [4.73684211]]\n",
      "Dfxn_1\n",
      " [[162]\n",
      " [ 81]]\n",
      "Dfxn\n",
      " [[44.87534626]\n",
      " [22.43767313]]\n",
      "Gradient Norm: 50.172162376034116\n",
      "*****\n",
      "B_inv\n",
      " [[ 0.24648787 -0.4201788 ]\n",
      " [-0.4201788   0.91315453]]\n",
      "****************\n",
      "Iteration: 2\n",
      "xn_1:\n",
      " [[4.73684211]\n",
      " [4.73684211]]\n",
      "xn:\n",
      " [[3.10344828]\n",
      " [3.10344828]]\n",
      "Dfxn_1\n",
      " [[44.87534626]\n",
      " [22.43767313]]\n",
      "Dfxn\n",
      " [[19.2627824]\n",
      " [ 9.6313912]]\n",
      "Gradient Norm: 21.536445443220426\n",
      "*****\n",
      "B_inv\n",
      " [[ 0.26473765 -0.40192901]\n",
      " [-0.40192901  0.93140432]]\n",
      "****************\n",
      "Iteration: 3\n",
      "xn_1:\n",
      " [[3.10344828]\n",
      " [3.10344828]]\n",
      "xn:\n",
      " [[1.875]\n",
      " [1.875]]\n",
      "Dfxn_1\n",
      " [[19.2627824]\n",
      " [ 9.6313912]]\n",
      "Dfxn\n",
      " [[7.03125 ]\n",
      " [3.515625]]\n",
      "Gradient Norm: 7.861176483398029\n",
      "*****\n",
      "B_inv\n",
      " [[ 0.28917749 -0.37748918]\n",
      " [-0.37748918  0.95584416]]\n",
      "****************\n",
      "Iteration: 4\n",
      "xn_1:\n",
      " [[1.875]\n",
      " [1.875]]\n",
      "xn:\n",
      " [[1.16883117]\n",
      " [1.16883117]]\n",
      "Dfxn_1\n",
      " [[7.03125 ]\n",
      " [3.515625]]\n",
      "Dfxn\n",
      " [[2.7323326]\n",
      " [1.3661663]]\n",
      "Gradient Norm: 3.0548407181235557\n",
      "*****\n",
      "B_inv\n",
      " [[ 0.33173333 -0.33493333]\n",
      " [-0.33493333  0.9984    ]]\n",
      "****************\n",
      "Iteration: 5\n",
      "xn_1:\n",
      " [[1.16883117]\n",
      " [1.16883117]]\n",
      "xn:\n",
      " [[0.72]\n",
      " [0.72]]\n",
      "Dfxn_1\n",
      " [[2.7323326]\n",
      " [1.3661663]]\n",
      "Dfxn\n",
      " [[1.0368]\n",
      " [0.5184]]\n",
      "Gradient Norm: 1.1591776395383286\n",
      "*****\n",
      "B_inv\n",
      " [[ 0.3986982  -0.26796846]\n",
      " [-0.26796846  1.06536487]]\n",
      "****************\n",
      "Iteration: 6\n",
      "xn_1:\n",
      " [[0.72]\n",
      " [0.72]]\n",
      "xn:\n",
      " [[0.44554455]\n",
      " [0.44554455]]\n",
      "Dfxn_1\n",
      " [[1.0368]\n",
      " [0.5184]]\n",
      "Dfxn\n",
      " [[0.3970199 ]\n",
      " [0.19850995]]\n",
      "Gradient Norm: 0.44388174242517836\n",
      "*****\n",
      "B_inv\n",
      " [[ 0.50821158 -0.15845509]\n",
      " [-0.15845509  1.17487824]]\n",
      "****************\n",
      "Iteration: 7\n",
      "xn_1:\n",
      " [[0.44554455]\n",
      " [0.44554455]]\n",
      "xn:\n",
      " [[0.27522936]\n",
      " [0.27522936]]\n",
      "Dfxn_1\n",
      " [[0.3970199 ]\n",
      " [0.19850995]]\n",
      "Dfxn\n",
      " [[0.1515024]\n",
      " [0.0757512]]\n",
      "Gradient Norm: 0.16938483122756695\n",
      "*****\n",
      "B_inv\n",
      " [[0.68468809 0.01802142]\n",
      " [0.01802142 1.35135476]]\n",
      "****************\n",
      "Iteration: 8\n",
      "xn_1:\n",
      " [[0.27522936]\n",
      " [0.27522936]]\n",
      "xn:\n",
      " [[0.17013233]\n",
      " [0.17013233]]\n",
      "Dfxn_1\n",
      " [[0.1515024]\n",
      " [0.0757512]]\n",
      "Dfxn\n",
      " [[0.05789002]\n",
      " [0.02894501]]\n",
      "Gradient Norm: 0.06472300563320932\n",
      "*****\n",
      "B_inv\n",
      " [[0.97067757 0.3040109 ]\n",
      " [0.3040109  1.63734424]]\n",
      "****************\n",
      "Iteration: 9\n",
      "xn_1:\n",
      " [[0.17013233]\n",
      " [0.17013233]]\n",
      "xn:\n",
      " [[0.10514019]\n",
      " [0.10514019]]\n",
      "Dfxn_1\n",
      " [[0.05789002]\n",
      " [0.02894501]]\n",
      "Dfxn\n",
      " [[0.02210892]\n",
      " [0.01105446]]\n",
      "Gradient Norm: 0.024718521570895415\n",
      "*****\n",
      "B_inv\n",
      " [[1.43314347 0.7664768 ]\n",
      " [0.7664768  2.09981013]]\n",
      "****************\n",
      "Iteration: 10\n",
      "xn_1:\n",
      " [[0.10514019]\n",
      " [0.10514019]]\n",
      "xn:\n",
      " [[0.06498195]\n",
      " [0.06498195]]\n",
      "Dfxn_1\n",
      " [[0.02210892]\n",
      " [0.01105446]]\n",
      "Dfxn\n",
      " [[0.00844531]\n",
      " [0.00422265]]\n",
      "Gradient Norm: 0.009442140847123146\n",
      "*****\n",
      "B_inv\n",
      " [[2.18159883 1.51493216]\n",
      " [1.51493216 2.84826549]]\n",
      "****************\n",
      "Iteration: 11\n",
      "xn_1:\n",
      " [[0.06498195]\n",
      " [0.06498195]]\n",
      "xn:\n",
      " [[0.04016064]\n",
      " [0.04016064]]\n",
      "Dfxn_1\n",
      " [[0.00844531]\n",
      " [0.00422265]]\n",
      "Dfxn\n",
      " [[0.00322575]\n",
      " [0.00161288]]\n",
      "Gradient Norm: 0.003606503088091652\n",
      "*****\n",
      "B_inv\n",
      " [[3.39252008 2.7258534 ]\n",
      " [2.7258534  4.05918673]]\n",
      "****************\n",
      "Iteration: 12\n",
      "xn_1:\n",
      " [[0.04016064]\n",
      " [0.04016064]]\n",
      "xn:\n",
      " [[0.02482074]\n",
      " [0.02482074]]\n",
      "Dfxn_1\n",
      " [[0.00322575]\n",
      " [0.00161288]]\n",
      "Dfxn\n",
      " [[0.00123214]\n",
      " [0.00061607]]\n",
      "Gradient Norm: 0.001377572366091388\n",
      "*****\n",
      "B_inv\n",
      " [[5.35189668 4.68523   ]\n",
      " [4.68523    6.01856332]]\n",
      "****************\n",
      "Iteration: 13\n",
      "xn_1:\n",
      " [[0.02482074]\n",
      " [0.02482074]]\n",
      "xn:\n",
      " [[0.01534004]\n",
      " [0.01534004]]\n",
      "Dfxn_1\n",
      " [[0.00123214]\n",
      " [0.00061607]]\n",
      "Dfxn\n",
      " [[0.00047063]\n",
      " [0.00023532]]\n",
      "Gradient Norm: 0.0005261842519230342\n",
      "*****\n",
      "Found solution after 14 iterations.\n",
      "xy_min =\n",
      " [[0.01534004]\n",
      " [0.01534004]]\n",
      "Gradient =\n",
      " [[0.00047063]\n",
      " [0.00023532]]\n"
     ]
    }
   ],
   "source": [
    "xn, Dfxn, i=BFGS(f3_grad, xk=[10,10], x0=[9,9], learning_rate=1, epsilon=0.001)\n",
    "print(f\"Found solution after {i+1} iterations.\")\n",
    "print(\"xy_min =\\n\",xn)\n",
    "print(\"Gradient =\\n\",Dfxn)"
   ]
  },
  {
   "cell_type": "code",
   "execution_count": 2,
   "metadata": {},
   "outputs": [],
   "source": [
    "import numpy as np\n",
    "import matplotlib.pyplot as plt \n",
    "from numpy.linalg import norm\n",
    "from sklearn.metrics import r2_score\n",
    "%matplotlib inline"
   ]
  },
  {
   "cell_type": "code",
   "execution_count": 3,
   "metadata": {},
   "outputs": [],
   "source": [
    "data2 = np.genfromtxt('MultiVarLR.csv',delimiter=',')"
   ]
  },
  {
   "cell_type": "code",
   "execution_count": 4,
   "metadata": {},
   "outputs": [
    {
     "data": {
      "text/plain": [
       "array([[ 73.,  80.,  75.],\n",
       "       [ 93.,  88.,  93.],\n",
       "       [ 89.,  91.,  90.],\n",
       "       [ 96.,  98., 100.],\n",
       "       [ 73.,  66.,  70.],\n",
       "       [ 53.,  46.,  55.],\n",
       "       [ 69.,  74.,  77.],\n",
       "       [ 47.,  56.,  60.],\n",
       "       [ 87.,  79.,  90.],\n",
       "       [ 79.,  70.,  88.],\n",
       "       [ 69.,  70.,  73.],\n",
       "       [ 70.,  65.,  74.],\n",
       "       [ 93.,  95.,  91.],\n",
       "       [ 79.,  80.,  73.],\n",
       "       [ 70.,  73.,  78.],\n",
       "       [ 93.,  89.,  96.],\n",
       "       [ 78.,  75.,  68.],\n",
       "       [ 81.,  90.,  93.],\n",
       "       [ 88.,  92.,  86.],\n",
       "       [ 78.,  83.,  77.],\n",
       "       [ 82.,  86.,  90.],\n",
       "       [ 86.,  82.,  89.],\n",
       "       [ 78.,  83.,  85.],\n",
       "       [ 76.,  83.,  71.],\n",
       "       [ 96.,  93.,  95.]])"
      ]
     },
     "execution_count": 4,
     "metadata": {},
     "output_type": "execute_result"
    }
   ],
   "source": [
    "X2=data2[:,:-1]\n",
    "X2"
   ]
  },
  {
   "cell_type": "code",
   "execution_count": 5,
   "metadata": {},
   "outputs": [
    {
     "data": {
      "text/plain": [
       "array([[152.],\n",
       "       [185.],\n",
       "       [180.],\n",
       "       [196.],\n",
       "       [142.],\n",
       "       [101.],\n",
       "       [149.],\n",
       "       [115.],\n",
       "       [175.],\n",
       "       [164.],\n",
       "       [141.],\n",
       "       [141.],\n",
       "       [184.],\n",
       "       [152.],\n",
       "       [148.],\n",
       "       [192.],\n",
       "       [147.],\n",
       "       [183.],\n",
       "       [177.],\n",
       "       [159.],\n",
       "       [177.],\n",
       "       [175.],\n",
       "       [175.],\n",
       "       [149.],\n",
       "       [192.]])"
      ]
     },
     "execution_count": 5,
     "metadata": {},
     "output_type": "execute_result"
    }
   ],
   "source": [
    "y2=data2[:,-1]\n",
    "y2=y2.reshape(-1,1)\n",
    "y2"
   ]
  },
  {
   "cell_type": "code",
   "execution_count": 6,
   "metadata": {},
   "outputs": [
    {
     "data": {
      "text/plain": [
       "array([[  1.,  73.,  80.,  75.],\n",
       "       [  1.,  93.,  88.,  93.],\n",
       "       [  1.,  89.,  91.,  90.],\n",
       "       [  1.,  96.,  98., 100.],\n",
       "       [  1.,  73.,  66.,  70.],\n",
       "       [  1.,  53.,  46.,  55.],\n",
       "       [  1.,  69.,  74.,  77.],\n",
       "       [  1.,  47.,  56.,  60.],\n",
       "       [  1.,  87.,  79.,  90.],\n",
       "       [  1.,  79.,  70.,  88.],\n",
       "       [  1.,  69.,  70.,  73.],\n",
       "       [  1.,  70.,  65.,  74.],\n",
       "       [  1.,  93.,  95.,  91.],\n",
       "       [  1.,  79.,  80.,  73.],\n",
       "       [  1.,  70.,  73.,  78.],\n",
       "       [  1.,  93.,  89.,  96.],\n",
       "       [  1.,  78.,  75.,  68.],\n",
       "       [  1.,  81.,  90.,  93.],\n",
       "       [  1.,  88.,  92.,  86.],\n",
       "       [  1.,  78.,  83.,  77.],\n",
       "       [  1.,  82.,  86.,  90.],\n",
       "       [  1.,  86.,  82.,  89.],\n",
       "       [  1.,  78.,  83.,  85.],\n",
       "       [  1.,  76.,  83.,  71.],\n",
       "       [  1.,  96.,  93.,  95.]])"
      ]
     },
     "execution_count": 6,
     "metadata": {},
     "output_type": "execute_result"
    }
   ],
   "source": [
    "x_0=np.ones((X2.shape[0],1))\n",
    "X2=np.hstack((x_0,X2))\n",
    "X2"
   ]
  },
  {
   "cell_type": "code",
   "execution_count": 7,
   "metadata": {},
   "outputs": [
    {
     "data": {
      "text/plain": [
       "array([[0.],\n",
       "       [0.],\n",
       "       [0.],\n",
       "       [0.]])"
      ]
     },
     "execution_count": 7,
     "metadata": {},
     "output_type": "execute_result"
    }
   ],
   "source": [
    "initial_theta=np.zeros((X2.shape[1],1))\n",
    "initial_theta"
   ]
  },
  {
   "cell_type": "markdown",
   "metadata": {},
   "source": [
    "# Linear Regression +BFGS"
   ]
  },
  {
   "cell_type": "code",
   "execution_count": 34,
   "metadata": {},
   "outputs": [],
   "source": [
    "def linear_regression_cost(theta, X, y):\n",
    "    m = len(y)\n",
    "    h = X @ theta\n",
    "    cost = (1 / (2 * m)) * np.sum((h - y) ** 2)\n",
    "    return cost"
   ]
  },
  {
   "cell_type": "code",
   "execution_count": 35,
   "metadata": {},
   "outputs": [],
   "source": [
    "def linear_regression_gradient(theta, X, y):\n",
    "    m = len(y)\n",
    "    h = X @ theta\n",
    "    gradient = (1 / m) * X.T @ (h - y)\n",
    "    return gradient,h"
   ]
  },
  {
   "cell_type": "code",
   "execution_count": 55,
   "metadata": {},
   "outputs": [],
   "source": [
    "def BFGS(f_grad, X, y, learning_rate=0.1, epsilon=0.001):\n",
    "    max_iteration = 1000\n",
    "    n = X.shape[1]\n",
    "    B_inv = np.eye(n)\n",
    "    I = np.eye(n)\n",
    "    weights =[]\n",
    "    cost=[]\n",
    "    \n",
    "    theta_1 = np.zeros((n, 1))\n",
    "    theta = 0.001 * np.ones((n, 1)) \n",
    "    for i in range(max_iteration):\n",
    "        weights.append(theta.flatten().tolist())\n",
    "        Dfxn_1,h = f_grad(theta_1, X, y)\n",
    "        Dfxn,h = f_grad(theta, X, y)\n",
    "        j=linear_regression_cost(theta, X, y)\n",
    "        cost.append(j)\n",
    "\n",
    "        gradient_norm = norm(Dfxn)\n",
    "\n",
    "        if gradient_norm < epsilon:\n",
    "            break\n",
    "        if i > 0 and (abs(cost[i-1] - cost[i]) < 0.001):\n",
    "            break    \n",
    "\n",
    "        delta_theta = theta - theta_1\n",
    "        delta_g = Dfxn - Dfxn_1\n",
    "        Denominator = 1 / np.dot(delta_g.T, delta_theta)\n",
    "\n",
    "        term_1 = I - Denominator * np.outer(delta_theta, delta_g)\n",
    "        term_2 = I - Denominator * np.outer(delta_g, delta_theta)\n",
    "\n",
    "        B_inv = np.dot(term_1, np.dot(B_inv, term_2)) + Denominator * np.outer(delta_theta, delta_theta)\n",
    "\n",
    "        theta_1 = theta\n",
    "        theta = theta - learning_rate * np.dot(B_inv, Dfxn)\n",
    "    weights =np.array(weights) \n",
    "\n",
    "    return theta, Dfxn, i,h,weights,cost"
   ]
  },
  {
   "cell_type": "code",
   "execution_count": 56,
   "metadata": {},
   "outputs": [
    {
     "name": "stdout",
     "output_type": "stream",
     "text": [
      "Found solution after 8 iterations.\n",
      "xy_min =\n",
      " [[-4.33596563]\n",
      " [ 0.35591404]\n",
      " [ 0.54239706]\n",
      " [ 1.16758139]]\n",
      "Gradient =\n",
      " [[-0.00026939]\n",
      " [-0.02397533]\n",
      " [-0.02649156]\n",
      " [-0.02126008]]\n",
      "(9, 4)\n"
     ]
    }
   ],
   "source": [
    "theta, Dfxn, i,h,weights,cost=BFGS(linear_regression_gradient, X2, y2, learning_rate=1, epsilon=0.001)\n",
    "print(f\"Found solution after {i} iterations.\")\n",
    "print(\"xy_min =\\n\",theta)\n",
    "print(\"Gradient =\\n\",Dfxn)\n",
    "print(weights.shape)"
   ]
  },
  {
   "cell_type": "code",
   "execution_count": 57,
   "metadata": {},
   "outputs": [
    {
     "name": "stdout",
     "output_type": "stream",
     "text": [
      "r2_score: 0.9896615774127215\n"
     ]
    }
   ],
   "source": [
    "R2=r2_score(y2, h)\n",
    "print(\"r2_score:\",R2)"
   ]
  },
  {
   "cell_type": "code",
   "execution_count": 52,
   "metadata": {},
   "outputs": [
    {
     "data": {
      "text/plain": [
       "Text(0, 0.5, 'Loss')"
      ]
     },
     "execution_count": 52,
     "metadata": {},
     "output_type": "execute_result"
    },
    {
     "data": {
      "image/png": "[encoded data removed]",
      "text/plain": [
       "<Figure size 648x576 with 1 Axes>"
      ]
     },
     "metadata": {
      "needs_background": "light"
     },
     "output_type": "display_data"
    }
   ],
   "source": [
    "plt.figure(figsize=(9,8))\n",
    "plt.plot(cost,'*-')\n",
    "plt.xlabel('Epochs')\n",
    "plt.ylabel('Loss')"
   ]
  },
  {
   "cell_type": "code",
   "execution_count": 51,
   "metadata": {
    "scrolled": false
   },
   "outputs": [
    {
     "data": {
      "image/png": "[encoded data removed]",
      "text/plain": [
       "<Figure size 648x576 with 1 Axes>"
      ]
     },
     "metadata": {
      "needs_background": "light"
     },
     "output_type": "display_data"
    },
    {
     "data": {
      "image/png": "[encoded data removed]",
      "text/plain": [
       "<Figure size 648x576 with 1 Axes>"
      ]
     },
     "metadata": {
      "needs_background": "light"
     },
     "output_type": "display_data"
    },
    {
     "data": {
      "image/png": "[encoded data removed]",
      "text/plain": [
       "<Figure size 648x576 with 1 Axes>"
      ]
     },
     "metadata": {
      "needs_background": "light"
     },
     "output_type": "display_data"
    },
    {
     "data": {
      "image/png": "[encoded data removed]",
      "text/plain": [
       "<Figure size 648x576 with 1 Axes>"
      ]
     },
     "metadata": {
      "needs_background": "light"
     },
     "output_type": "display_data"
    }
   ],
   "source": [
    "for i in range (weights.shape[1]):\n",
    "    plt.figure(figsize=(9, 8))\n",
    "    plt.plot(weights[:,i], cost,'o-',color='m')\n",
    "    plt.xlabel(f'theta{i}')\n",
    "    plt.ylabel('Loss')"
   ]
  },
  {
   "cell_type": "code",
   "execution_count": 58,
   "metadata": {},
   "outputs": [],
   "source": [
    "def sigmoid(z):\n",
    "    return 1 / (1 + np.exp(-z))\n",
    "\n",
    "def logistic_cost(theta, X, y):\n",
    "    m = len(y)\n",
    "    h = sigmoid(X @ theta)\n",
    "    cost = -(1 / m) * (y.T @ np.log(h) + (1 - y).T @ np.log(1 - h))\n",
    "    return cost\n",
    "\n",
    "def logistic_gradient(theta, X, y):\n",
    "    m = len(y)\n",
    "    h = sigmoid(X @ theta)\n",
    "    gradient = (1 / m) * (X.T @ (h - y))\n",
    "    return gradient,h"
   ]
  },
  {
   "cell_type": "code",
   "execution_count": 59,
   "metadata": {},
   "outputs": [
    {
     "name": "stdout",
     "output_type": "stream",
     "text": [
      "Found solution after 999 iterations.\n",
      "xy_min =\n",
      " [[nan]\n",
      " [nan]\n",
      " [nan]\n",
      " [nan]]\n",
      "Gradient =\n",
      " [[nan]\n",
      " [nan]\n",
      " [nan]\n",
      " [nan]]\n",
      "(1000, 4)\n"
     ]
    },
    {
     "name": "stderr",
     "output_type": "stream",
     "text": [
      "C:\\Users\\Dina\\anaconda3\\lib\\site-packages\\ipykernel_launcher.py:27: RuntimeWarning: divide by zero encountered in true_divide\n",
      "C:\\Users\\Dina\\anaconda3\\lib\\site-packages\\ipykernel_launcher.py:29: RuntimeWarning: invalid value encountered in multiply\n",
      "C:\\Users\\Dina\\anaconda3\\lib\\site-packages\\ipykernel_launcher.py:30: RuntimeWarning: invalid value encountered in multiply\n"
     ]
    }
   ],
   "source": [
    "theta, Dfxn, i,h,weights,cost=BFGS(logistic_gradient, X2, y2, learning_rate=1, epsilon=0.001)\n",
    "print(f\"Found solution after {i} iterations.\")\n",
    "print(\"xy_min =\\n\",theta)\n",
    "print(\"Gradient =\\n\",Dfxn)\n",
    "print(weights.shape)"
   ]
  },
  {
   "cell_type": "code",
   "execution_count": null,
   "metadata": {},
   "outputs": [],
   "source": []
  }
 ],
 "metadata": {
  "kernelspec": {
   "display_name": "Python 3",
   "language": "python",
   "name": "python3"
  },
  "language_info": {
   "codemirror_mode": {
    "name": "ipython",
    "version": 3
   },
   "file_extension": ".py",
   "mimetype": "text/x-python",
   "name": "python",
   "nbconvert_exporter": "python",
   "pygments_lexer": "ipython3",
   "version": "3.7.6"
  }
 },
 "nbformat": 4,
 "nbformat_minor": 4
}
